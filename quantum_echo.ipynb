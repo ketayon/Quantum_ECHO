{
 "cells": [
  {
   "cell_type": "code",
   "execution_count": 4,
   "id": "50809829",
   "metadata": {},
   "outputs": [],
   "source": [
    "# %pip install qiskit\n",
    "# %pip install qiskit_aer\n",
    "# %pip install qiskit_ibm_runtime\n",
    "# %pip install matplotlib\n",
    "# %pip install numpy\n"
   ]
  },
  {
   "cell_type": "code",
   "execution_count": 1,
   "id": "c5b70dde",
   "metadata": {},
   "outputs": [],
   "source": [
    "import math, csv\n",
    "import numpy as np\n",
    "import matplotlib.pyplot as plt\n",
    "from qiskit import QuantumCircuit, QuantumRegister, ClassicalRegister, transpile\n",
    "from qiskit_ibm_runtime import SamplerV2 as Sampler\n",
    "from qiskit.transpiler import generate_preset_pass_manager\n",
    "from qiskit.quantum_info import SparsePauliOp\n",
    "from qiskit_aer import AerSimulator\n",
    "from qiskit_ibm_runtime import QiskitRuntimeService\n",
    "from qiskit_aer.noise import NoiseModel, thermal_relaxation_error\n"
   ]
  },
  {
   "cell_type": "code",
   "execution_count": 2,
   "id": "24e34de9",
   "metadata": {},
   "outputs": [],
   "source": [
    "SHOTS_SIM = 2000\n",
    "SHOTS_HW  = 4000\n",
    "\n",
    "TAUS_NS = np.array([0, 200, 400, 800, 1600, 3200, 6400, 12800])\n",
    "\n",
    "T1_NS = 80_000   # 80 μs\n",
    "T2_NS = 40_000   # 40 μs"
   ]
  },
  {
   "cell_type": "code",
   "execution_count": 3,
   "id": "02c1f463",
   "metadata": {},
   "outputs": [],
   "source": [
    "def ramsey_circuit(tau_ns: int) -> QuantumCircuit:\n",
    "    q = QuantumRegister(1, \"q\")\n",
    "    cr = ClassicalRegister(1, \"cr\")\n",
    "    qc = QuantumCircuit(q, cr)\n",
    "    qc.rx(np.pi/2, q[0])\n",
    "    qc.delay(int(tau_ns), q[0], unit=\"ns\")\n",
    "    qc.rx(np.pi/2, q[0])\n",
    "    qc.measure(q[0], cr[0])\n",
    "    return qc\n",
    "\n",
    "def hahn_echo_circuit(tau_ns: int) -> QuantumCircuit:\n",
    "    q = QuantumRegister(1, \"q\")\n",
    "    cr = ClassicalRegister(1, \"cr\")\n",
    "    qc = QuantumCircuit(q, cr)\n",
    "    qc.rx(np.pi/2, q[0])\n",
    "    qc.delay(int(tau_ns), q[0], unit=\"ns\")\n",
    "    qc.x(q[0])\n",
    "    qc.delay(int(tau_ns), q[0], unit=\"ns\")\n",
    "    qc.rx(-np.pi/2, q[0])\n",
    "    qc.measure(q[0], cr[0])\n",
    "    return qc"
   ]
  },
  {
   "cell_type": "code",
   "execution_count": 4,
   "id": "bde91221",
   "metadata": {},
   "outputs": [],
   "source": [
    "def fit_exp_decay(t, y, total_idle_factor=1.0):\n",
    "    \"\"\"\n",
    "    Fit y ≈ A*exp(-(total_idle_factor * t)/T2) + C\n",
    "    \"\"\"\n",
    "    C = float(y[-1])\n",
    "    y_shift = np.clip(y - C, 1e-8, None)\n",
    "    slope, intercept = np.polyfit(total_idle_factor*t, np.log(y_shift), 1)\n",
    "    T2 = -1.0/slope if slope < 0 else np.inf\n",
    "    A = math.exp(intercept)\n",
    "    return A, C, T2"
   ]
  },
  {
   "cell_type": "code",
   "execution_count": 5,
   "id": "4f019dc2",
   "metadata": {},
   "outputs": [
    {
     "name": "stdout",
     "output_type": "stream",
     "text": [
      "dict_keys(['taus', 'ramsey', 'echo'])\n"
     ]
    }
   ],
   "source": [
    "def run_simulation(taus, shots):\n",
    "    noise = NoiseModel()\n",
    "    try:\n",
    "        delay_err = thermal_relaxation_error(T1_NS, T2_NS, duration=1, time_unit=\"ns\")\n",
    "    except TypeError:\n",
    "        delay_err = thermal_relaxation_error(T1_NS, T2_NS, 1)\n",
    "    noise.add_all_qubit_quantum_error(delay_err, \"delay\")\n",
    "    backend = AerSimulator(noise_model=noise)\n",
    "\n",
    "    ramsey, echo = [], []\n",
    "    for tau in taus:\n",
    "        for circ_func, arr in [(ramsey_circuit, ramsey), (hahn_echo_circuit, echo)]:\n",
    "            qc = circ_func(int(tau))\n",
    "            tqc = transpile(qc, backend)  # no scheduling on Aer\n",
    "            res = backend.run(tqc, shots=shots).result().get_counts()\n",
    "            arr.append(res.get(\"0\", 0) / shots)\n",
    "    return {\"taus\": np.array(taus), \"ramsey\": np.array(ramsey), \"echo\": np.array(echo)}\n",
    "\n",
    "# run it\n",
    "sim = run_simulation(TAUS_NS, SHOTS_SIM)\n",
    "print(sim.keys())"
   ]
  },
  {
   "cell_type": "code",
   "execution_count": 6,
   "id": "0d01258e",
   "metadata": {},
   "outputs": [],
   "source": [
    "token=\"wT9ezlCVkzgngguVBoFUEo0n2U9ZPq0xJPkOu0vR8C4M\""
   ]
  },
  {
   "cell_type": "code",
   "execution_count": 7,
   "id": "1bfc4465",
   "metadata": {},
   "outputs": [],
   "source": [
    "def _extract_counts(entry):\n",
    "    if hasattr(entry, \"data\") and hasattr(entry.data, \"get_counts\"):\n",
    "        return entry.data.get_counts()\n",
    "    if hasattr(entry, \"data\"):\n",
    "        # common register names\n",
    "        for name in (\"cr\", \"c\", \"c0\", \"meas\", \"register\"):\n",
    "            if hasattr(entry.data, name):\n",
    "                reg = getattr(entry.data, name)\n",
    "                if hasattr(reg, \"get_counts\"):\n",
    "                    return reg.get_counts()\n",
    "        # fallback: first attr with get_counts()\n",
    "        for name in dir(entry.data):\n",
    "            if not name.startswith(\"_\"):\n",
    "                obj = getattr(entry.data, name)\n",
    "                if hasattr(obj, \"get_counts\"):\n",
    "                    return obj.get_counts()\n",
    "    raise AttributeError(\"Counts not found in Sampler result entry.\")"
   ]
  },
  {
   "cell_type": "code",
   "execution_count": null,
   "id": "6e3a755e",
   "metadata": {},
   "outputs": [
    {
     "name": "stderr",
     "output_type": "stream",
     "text": [
      "qiskit_runtime_service._resolve_cloud_instances:WARNING:2025-09-06 16:58:47,110: Default instance not set. Searching all available instances.\n"
     ]
    },
    {
     "name": "stdout",
     "output_type": "stream",
     "text": [
      "Using backend: ibm_brisbane\n",
      "Got 8 τ points from ONE SamplerV2 job on ibm_brisbane.\n"
     ]
    }
   ],
   "source": [
    "def run_hardware_one_job_sampler(\n",
    "    taus,\n",
    "    shots=4000,\n",
    "    backend_name=None,\n",
    "    opt_level=3,\n",
    "):\n",
    "    service = QiskitRuntimeService(channel=\"ibm_cloud\")\n",
    "    backend = service.backend(backend_name) if backend_name else service.least_busy(operational=True, simulator=False)\n",
    "    print(\"Using backend:\", backend.name)\n",
    "\n",
    "    circuits = []\n",
    "    for tau in taus:\n",
    "        circuits.append(ramsey_circuit(int(tau)))\n",
    "        circuits.append(hahn_echo_circuit(int(tau)))\n",
    "\n",
    "    pm = generate_preset_pass_manager(optimization_level=opt_level, backend=backend)\n",
    "    transpiled = [pm.run(c) for c in circuits]\n",
    "\n",
    "    # ONE SamplerV2 job\n",
    "    sampler = Sampler(mode=backend)\n",
    "    sampler.options.default_shots = shots\n",
    "    job = sampler.run(transpiled)\n",
    "    res = job.result()\n",
    "\n",
    "    ramsey, echo = [], []\n",
    "    for i, _ in enumerate(taus):\n",
    "        r_idx, e_idx = 2*i, 2*i + 1\n",
    "        counts_r = _extract_counts(res[r_idx])\n",
    "        counts_e = _extract_counts(res[e_idx])\n",
    "        ramsey.append(counts_r.get(\"0\", 0) / shots)\n",
    "        echo.append(counts_e.get(\"0\", 0) / shots)\n",
    "\n",
    "    return {\n",
    "        \"backend\": backend.name,\n",
    "        \"taus\": np.array(taus),\n",
    "        \"ramsey\": np.array(ramsey),\n",
    "        \"echo\": np.array(echo),\n",
    "    }\n",
    "\n",
    "hw = run_hardware_one_job_sampler(TAUS_NS, shots=SHOTS_HW)\n",
    "print(f\"Got {len(hw['taus'])} τ points from ONE SamplerV2 job on {hw['backend']}.\")"
   ]
  },
  {
   "cell_type": "code",
   "execution_count": 9,
   "id": "ce1d7dd4",
   "metadata": {},
   "outputs": [
    {
     "data": {
      "image/png": "[encoded data removed]",
      "text/plain": [
       "<Figure size 640x480 with 1 Axes>"
      ]
     },
     "metadata": {},
     "output_type": "display_data"
    }
   ],
   "source": [
    "taus_sim   = sim[\"taus\"]\n",
    "ramsey_sim = sim[\"ramsey\"]\n",
    "echo_sim   = sim[\"echo\"]\n",
    "\n",
    "# --- fit simulation ---\n",
    "A_r_s, C_r_s, T2s = fit_exp_decay(taus_sim, ramsey_sim, total_idle_factor=1.0)\n",
    "A_e_s, C_e_s, T2e = fit_exp_decay(taus_sim, echo_sim,   total_idle_factor=2.0)\n",
    "\n",
    "t_plot = np.linspace(0, float(taus_sim.max()), 300)\n",
    "ramsey_fit_s = A_r_s * np.exp(-t_plot / T2s) + C_r_s\n",
    "echo_fit_s   = A_e_s * np.exp(-(2 * t_plot) / T2e) + C_e_s\n",
    "\n",
    "plt.figure()\n",
    "title_bits = [\"Ramsey vs Hahn Echo\"]\n",
    "\n",
    "# --- SIM curves ---\n",
    "plt.scatter(taus_sim, ramsey_sim, label=\"Ramsey (sim)\", marker=\"o\")\n",
    "plt.plot(t_plot, ramsey_fit_s, \"--\", label=f\"Sim fit T2*≈{T2s/1000:.1f} μs\")\n",
    "plt.scatter(taus_sim, echo_sim, label=\"Echo (sim)\", marker=\"s\")\n",
    "plt.plot(t_plot, echo_fit_s, \"--\", label=f\"Sim fit T2_echo≈{T2e/1000:.1f} μs\")\n",
    "\n",
    "# --- HW (Sampler) if present ---\n",
    "if \"hw\" in globals() and hw is not None:\n",
    "    taus_hw   = hw[\"taus\"]\n",
    "    ramsey_hw = hw[\"ramsey\"]\n",
    "    echo_hw   = hw[\"echo\"]\n",
    "\n",
    "    A_r_h, C_r_h, T2s_h = fit_exp_decay(taus_hw, ramsey_hw, total_idle_factor=1.0)\n",
    "    A_e_h, C_e_h, T2e_h = fit_exp_decay(taus_hw, echo_hw,   total_idle_factor=2.0)\n",
    "\n",
    "    ramsey_fit_h = A_r_h * np.exp(-t_plot / T2s_h) + C_r_h\n",
    "    echo_fit_h   = A_e_h * np.exp(-(2 * t_plot) / T2e_h) + C_e_h\n",
    "\n",
    "    plt.scatter(taus_hw, ramsey_hw, label=f\"Ramsey (hw {hw.get('backend','')})\", marker=\"^\")\n",
    "    plt.plot(t_plot, ramsey_fit_h, \"-\", label=f\"HW fit T2*≈{T2s_h/1000:.1f} μs\")\n",
    "    plt.scatter(taus_hw, echo_hw, label=f\"Echo (hw {hw.get('backend','')})\", marker=\"v\")\n",
    "    plt.plot(t_plot, echo_fit_h, \"-\", label=f\"HW fit T2_echo≈{T2e_h/1000:.1f} μs\")\n",
    "\n",
    "    if \"backend\" in hw:\n",
    "        title_bits.append(f\"HW: {hw['backend']}\")\n",
    "\n",
    "# --- HW (Estimator with mitigation) if present ---\n",
    "if \"hw_est\" in globals() and hw_est is not None:\n",
    "    taus_hwe   = hw_est[\"taus\"]\n",
    "    ramsey_hwe = hw_est[\"ramsey\"]\n",
    "    echo_hwe   = hw_est[\"echo\"]\n",
    "\n",
    "    A_r_he, C_r_he, T2s_he = fit_exp_decay(taus_hwe, ramsey_hwe, total_idle_factor=1.0)\n",
    "    A_e_he, C_e_he, T2e_he = fit_exp_decay(taus_hwe, echo_hwe,   total_idle_factor=2.0)\n",
    "\n",
    "    ramsey_fit_he = A_r_he * np.exp(-t_plot / T2s_he) + C_r_he\n",
    "    echo_fit_he   = A_e_he * np.exp(-(2 * t_plot) / T2e_he) + C_e_he\n",
    "\n",
    "    plt.scatter(taus_hwe, ramsey_hwe, label=f\"Ramsey (hw, Estimator+ZNE)\", marker=\"D\")\n",
    "    plt.plot(t_plot, ramsey_fit_he, \"-\", label=f\"HW+ZNE fit T2*≈{T2s_he/1000:.1f} μs\")\n",
    "    plt.scatter(taus_hwe, echo_hwe, label=f\"Echo (hw, Estimator+ZNE)\", marker=\"P\")\n",
    "    plt.plot(t_plot, echo_fit_he, \"-\", label=f\"HW+ZNE fit T2_echo≈{T2e_he/1000:.1f} μs\")\n",
    "\n",
    "    if \"backend\" in hw_est:\n",
    "        title_bits.append(f\"HW(ZNE): {hw_est['backend']}\")\n",
    "\n",
    "plt.title(\" | \".join(title_bits))\n",
    "plt.xlabel(\"τ (ns) — Echo idle ≈ 2τ\")\n",
    "plt.ylabel(\"P(measure 0)\")\n",
    "plt.legend()\n",
    "plt.tight_layout()\n",
    "plt.show()"
   ]
  },
  {
   "cell_type": "code",
   "execution_count": 10,
   "id": "76b0e88c",
   "metadata": {},
   "outputs": [
    {
     "name": "stdout",
     "output_type": "stream",
     "text": [
      "CSV saved: echo_ramsey_results.csv\n"
     ]
    }
   ],
   "source": [
    "with open(\"echo_ramsey_results.csv\", \"w\", newline=\"\") as f:\n",
    "    writer = csv.writer(f)\n",
    "    writer.writerow([\"tau_ns\",\"ramsey_sim\",\"echo_sim\",\"ramsey_hw\",\"echo_hw\"])\n",
    "    for i,tau in enumerate(sim[\"taus\"]):\n",
    "        writer.writerow([tau, sim[\"ramsey\"][i], sim[\"echo\"][i],\n",
    "                         hw[\"ramsey\"][i], hw[\"echo\"][i]])\n",
    "\n",
    "print(\"CSV saved: echo_ramsey_results.csv\")"
   ]
  }
 ],
 "metadata": {
  "kernelspec": {
   "display_name": "echo",
   "language": "python",
   "name": "python3"
  },
  "language_info": {
   "codemirror_mode": {
    "name": "ipython",
    "version": 3
   },
   "file_extension": ".py",
   "mimetype": "text/x-python",
   "name": "python",
   "nbconvert_exporter": "python",
   "pygments_lexer": "ipython3",
   "version": "3.12.11"
  }
 },
 "nbformat": 4,
 "nbformat_minor": 5
}
